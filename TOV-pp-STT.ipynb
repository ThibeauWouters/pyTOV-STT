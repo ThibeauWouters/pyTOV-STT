{
  "cells": [
    {
      "cell_type": "markdown",
      "source": [
        "\n",
        "**TOV Stars with Piecewise Polytropic equation of state**\n",
        "\n",
        "N. Stergioulas\n",
        "\n",
        "Aristotle University of Thessaloniki\n",
        "\n",
        "v1.0 (March 2019)\n",
        "\n",
        "###### Content provided under a Creative Commons Attribution license, [CC BY-NC-SA 4.0](https://creativecommons.org/licenses/by-nc-sa/4.0/); code under [GNU GPLv3 License](https://choosealicense.com/licenses/gpl-3.0/). (c)2019 [Nikolaos Stergioulas](http://www.astro.auth.gr/~niksterg/)\n"
      ],
      "metadata": {}
    },
    {
      "cell_type": "code",
      "source": [
        "from __future__ import print_function, division\n",
        "import numpy as np\n",
        "import matplotlib.pyplot as plt\n",
        "%matplotlib inline\n",
        "import scipy as sp\n",
        "from scipy import integrate\n",
        "from scipy import optimize\n",
        "from scipy.interpolate import PchipInterpolator\n",
        "import sys\n",
        "from decimal import Decimal\n",
        "import warnings\n",
        "if not sys.warnoptions:\n",
        "    warnings.simplefilter(\"ignore\")\n",
        "from IPython.display import Image"
      ],
      "outputs": [],
      "execution_count": 1,
      "metadata": {}
    },
    {
      "cell_type": "markdown",
      "source": [
        "# The TOV equations for stars in Scalar Tensor Theories (STT)"
      ],
      "metadata": {}
    },
    {
      "cell_type": "markdown",
      "source": [
        "Consider the metric for a spherically symmetric, stationary and asymptotic spacetime in Schwarzshild coordinates $t, r, \\theta, \\phi$. In the Einstein frame, the metric is\n",
        "$$ ds^2 = -e^{\\nu}dt^2 +e^{\\lambda}dr^2 + r^2(d\\theta^2+\\sin^2\\theta d\\phi^2)$$\n",
        "The TOV system in units $c=G=1$ is then (where we denote with $\\rho, \\epsilon, P$ matter quantities in the Jordan frame: \n",
        "$$ P = P(\\rho),$$\n",
        "$$ \\epsilon = \\epsilon(\\rho),$$\n",
        "$$ \\frac{dP}{dr} = -(\\epsilon+P)\\left[\\frac{1}{2}\\frac{d\\nu}{dr}+\\alpha(\\varphi)\\psi \\right]  = -(\\epsilon+P)\\left[\\frac{(m+4\\pi A^4({\\varphi}) r^3P)}{r(r-2m)}+\\frac{1}{2}r\\psi^2 + \\alpha(\\varphi)\\psi \\right],$$\n",
        "$$ \\frac{dm}{dr} = 4\\pi A^4({\\varphi}) r^2 \\epsilon +\\frac{1}{2}r(r-2m)\\psi^2,$$\n",
        "$$ \\frac{d\\nu}{dr} = \\frac{2(m+4\\pi A^4({\\varphi}) r^3P)}{r(r-2m)}+r\\psi^2,$$\n",
        "$$ \\frac{d\\varphi}{dr} = \\psi $$\n",
        "$$ \\frac{d\\psi}{dr} = 4\\pi A^4(\\varphi) \\frac{r}{r-2m}\\left[ \\alpha(\\varphi)\n",
        "(\\epsilon-3p) + r(\\epsilon-p)\\psi \\right] - \\frac{2(r-m)}{r(r-2m)}\\psi,$$\n",
        "$$ \\lambda = -\\ln\\left(1-\\frac{2m}{r}\\right),$$\n",
        "where \n",
        "$$ A(\\varphi) = e^{\\frac{1}{2}\\beta\\phi^2}.$$\n",
        "The central values are\n",
        "$$ P(0) = P_c,$$\n",
        "$$ m(0) = 0,$$\n",
        "$$ \\nu(0) = \\nu_c,$$\n",
        "$$\\varphi(0) = \\varphi_c,$$\n",
        "$$\\psi(0) = 0.$$\n",
        "The choice of $\\nu_c$ and $\\varphi_c$ is such that $\\lim_{r\\rightarrow \\infty}\\nu=0$ and $\\lim_{r\\rightarrow \\infty}\\varphi=0$ (one needs to start with trial values and then apply a minimization method to find the optimal choice). \n",
        "\n"
      ],
      "metadata": {}
    },
    {
      "cell_type": "markdown",
      "source": [
        "# Numerical implementation"
      ],
      "metadata": {}
    },
    {
      "cell_type": "markdown",
      "source": [
        "## Define the equation of state"
      ],
      "metadata": {}
    },
    {
      "cell_type": "code",
      "source": [
        "c=2.9979e10\n",
        "G=6.67408e-8\n",
        "Msun=1.989e33\n",
        "Length = G*Msun/c**2\n",
        "Time = Length/c\n",
        "Density = Msun/Length**3\n",
        "\n",
        "rho1 = pow(10,14.7)/Density\n",
        "rho2 = pow(10,15.0)/Density\n",
        "\n",
        "#SLy\n",
        "p1 = pow(10.0,34.384)/Density/c**2\n",
        "Gamma1 = 3.005\n",
        "Gamma2 = 2.988\n",
        "Gamma3 = 2.851\n",
        "\n",
        "K1 = p1 / pow(rho1,Gamma1)\n",
        "K2 = K1 * pow( rho1, Gamma1-Gamma2)\n",
        "K3 = K2 * pow( rho2, Gamma2-Gamma3)\n",
        "\n",
        "rhoL_1 = 2.62789e12/Density\n",
        "rhoL_2 = 3.78358e11/Density\n",
        "rhoL_3 = 2.44034e7/Density\n",
        "rhoL_4 = 0.0\n",
        "\n",
        "GammaL_1 = 1.35692\n",
        "GammaL_2 = 0.62223\n",
        "GammaL_3 = 1.28733\n",
        "GammaL_4 = 1.58425\n",
        "\n",
        "KL_1 = 3.99874e-8 * pow(Msun/Length**3, GammaL_1-1)\n",
        "KL_2 = 5.32697e+1 * pow(Msun/Length**3, GammaL_2-1) \n",
        "KL_3 = 1.06186e-6 * pow(Msun/Length**3, GammaL_3-1)  \n",
        "KL_4 = 6.80110e-9 * pow(Msun/Length**3, GammaL_4-1)  \n",
        "\n",
        "epsL_4 = 0.0\n",
        "alphaL_4 = 0.0\n",
        "epsL_3 = (1+alphaL_4)*rhoL_3 + KL_4/(GammaL_4 - 1)*pow(rhoL_3, GammaL_4)\n",
        "alphaL_3 = epsL_3/rhoL_3 - 1 - KL_3/(GammaL_3 - 1)*pow(rhoL_3, GammaL_3 -1)\n",
        "epsL_2 = (1+alphaL_3)*rhoL_2 + KL_3/(GammaL_3 - 1)*pow(rhoL_2, GammaL_3)\n",
        "alphaL_2 = epsL_2/rhoL_2 - 1 - KL_2/(GammaL_2 - 1)*pow(rhoL_2, GammaL_2 -1)\n",
        "epsL_1 = (1+alphaL_2)*rhoL_1 + KL_2/(GammaL_2 - 1)*pow(rhoL_1, GammaL_2)\n",
        "alphaL_1 = epsL_1/rhoL_1 - 1 - KL_1/(GammaL_1 - 1)*pow(rhoL_1, GammaL_1 -1)\n",
        "\n",
        "rho0 = pow(KL_1/K1,1.0/(Gamma1-GammaL_1))\n",
        "eps0 = (1.0+alphaL_1)*rho0 + KL_1/(GammaL_1-1.0)*pow(rho0,GammaL_1)\n",
        "\n",
        "alpha1 = eps0/rho0 - 1 - K1/(Gamma1 - 1)*pow(rho0, Gamma1 -1)\n",
        "eps1 = (1+alpha1)*rho1 + K1/(Gamma1 - 1)*pow(rho1, Gamma1)\n",
        "alpha2 = eps1/rho1 - 1 - K2/(Gamma2 - 1)*pow(rho1, Gamma2 -1)\n",
        "eps2 = (1+alpha2)*rho2 + K2/(Gamma2 - 1)*pow(rho2, Gamma2)\n",
        "alpha3 = eps2/rho2 - 1 - K3/(Gamma3 - 1)*pow(rho2, Gamma3 -1)\n",
        "\n",
        "pL_3 = KL_3*pow(rhoL_3,GammaL_3)\n",
        "pL_2 = KL_2*pow(rhoL_2,GammaL_2)\n",
        "pL_1 = KL_1*pow(rhoL_1,GammaL_1)\n",
        "p0 = KL_1*pow(rho0,GammaL_1)\n",
        "p2 = K2*pow(rho2,Gamma2)"
      ],
      "outputs": [],
      "execution_count": 2,
      "metadata": {}
    },
    {
      "cell_type": "code",
      "source": [
        "args = (rhoL_3,rhoL_2,rhoL_1,rho0,rho1,rho2,KL_4,KL_3,KL_2,KL_1,K1,K2,K3,\\\n",
        "        GammaL_4,GammaL_3,GammaL_2,GammaL_1,Gamma1,Gamma2,Gamma3)\n",
        "\n",
        "args2 = (rhoL_3,rhoL_2,rhoL_1,rho0,rho1,rho2,KL_4,KL_3,KL_2,KL_1,K1,K2,K3,\\\n",
        "        GammaL_4,GammaL_3,GammaL_2,GammaL_1,Gamma1,Gamma2,Gamma3,\\\n",
        "        pL_3,pL_2, pL_1, p0, p1, p2,\\\n",
        "        alphaL_4, alphaL_3, alphaL_2, alphaL_1, alpha1, alpha2, alpha3)\n",
        "\n",
        "def P_of_rho(rho, args):\n",
        "    rhoL_3,rhoL_2,rhoL_1,rho0,rho1,rho2,KL_4,KL_3,KL_2,\\\n",
        "    KL_1,K1,K2,K3,GammaL_4,GammaL_3,GammaL_2,GammaL_1,Gamma1,Gamma2,Gamma3 = args\n",
        "    if rho<rhoL_3:\n",
        "        return KL_4*pow(rho,GammaL_4)\n",
        "    elif rhoL_3<= rho <rhoL_2:\n",
        "        return KL_3*pow(rho,GammaL_3)\n",
        "    elif rhoL_2<= rho <rhoL_1:\n",
        "        return KL_2*pow(rho,GammaL_2)\n",
        "    elif rhoL_1<= rho <rho0:\n",
        "        return KL_1*pow(rho,GammaL_1)\n",
        "    elif rho0<= rho <rho1:\n",
        "        return K1*pow(rho,Gamma1)\n",
        "    elif rho1<= rho <rho2:\n",
        "        return K2*pow(rho,Gamma2)\n",
        "    else:\n",
        "        return K3*pow(rho,Gamma3)\n",
        "    \n",
        "def rho_of_P(p, args):\n",
        "    rhoL_3,rhoL_2,rhoL_1,rho0,rho1,rho2,KL_4,KL_3,KL_2,\\\n",
        "    KL_1,K1,K2,K3,GammaL_4,GammaL_3,GammaL_2,GammaL_1,Gamma1,Gamma2,Gamma3 = args\n",
        "    if p<pL_3:\n",
        "        return pow(p/KL_4, 1.0/GammaL_4)\n",
        "    elif pL_3<= p <pL_2:\n",
        "        return pow(p/KL_3, 1.0/GammaL_3)\n",
        "    elif pL_2<= p <pL_1:\n",
        "        return pow(p/KL_2, 1.0/GammaL_2)\n",
        "    elif pL_1<= p <p0:\n",
        "        return pow(p/KL_1, 1.0/GammaL_1)\n",
        "    elif p0<= p <p1:\n",
        "        return pow(p/K1, 1.0/Gamma1)\n",
        "    elif p1<= p <p2:\n",
        "        return pow(p/K2, 1.0/Gamma2)\n",
        "    else:\n",
        "        return pow(p/K3, 1.0/Gamma3)\n",
        "\n",
        "def eps_of_rho(rho, args2):\n",
        "    rhoL_3,rhoL_2,rhoL_1,rho0,rho1,rho2,KL_4,KL_3,KL_2,KL_1,K1,K2,K3,\\\n",
        "    GammaL_4,GammaL_3,GammaL_2,GammaL_1,Gamma1,Gamma2,Gamma3,\\\n",
        "    pL_3,pL_2, pL_1, p0, p1, p2,\\\n",
        "    alphaL_4, alphaL_3, alphaL_2, alphaL_1, alpha1, alpha2, alpha3 = args2\n",
        "    if rho<rhoL_3:\n",
        "        return (1.0+alphaL_4)*rho + KL_4/(GammaL_4-1.0)*pow(rho,GammaL_4)\n",
        "    elif rhoL_3<= rho <rhoL_2:\n",
        "        return (1.0+alphaL_3)*rho + KL_3/(GammaL_3-1.0)*pow(rho,GammaL_3)\n",
        "    elif rhoL_2<= rho <rhoL_1:\n",
        "        return (1.0+alphaL_2)*rho + KL_2/(GammaL_2-1.0)*pow(rho,GammaL_2)\n",
        "    elif rhoL_1<= rho <rho0:\n",
        "        return (1.0+alphaL_1)*rho + KL_1/(GammaL_1-1.0)*pow(rho,GammaL_1)\n",
        "    elif rho0<= rho <rho1:\n",
        "        return (1.0+alpha1)*rho + K1/(Gamma1-1.0)*pow(rho,Gamma1)\n",
        "    elif rho1<= rho <rho2:\n",
        "        return (1.0+alpha2)*rho + K2/(Gamma2-1.0)*pow(rho,Gamma2)\n",
        "    else:\n",
        "        return (1.0+alpha3)*rho + K3/(Gamma3-1.0)*pow(rho,Gamma3)\n",
        "\n",
        "def eps_of_P(p, args2):\n",
        "    rhoL_3,rhoL_2,rhoL_1,rho0,rho1,rho2,KL_4,KL_3,KL_2,KL_1,K1,K2,K3,\\\n",
        "    GammaL_4,GammaL_3,GammaL_2,GammaL_1,Gamma1,Gamma2,Gamma3,\\\n",
        "    pL_3,pL_2, pL_1, p0, p1, p2,\\\n",
        "    alphaL_4, alphaL_3, alphaL_2, alphaL_1, alpha1, alpha2, alpha3 = args2    \n",
        "    if p<pL_3:\n",
        "        return (1.0+alphaL_4)*pow(p/KL_4, 1.0/GammaL_4)+ p/(GammaL_4-1)\n",
        "    elif pL_3<= p <pL_2:\n",
        "        return (1.0+alphaL_3)*pow(p/KL_3, 1.0/GammaL_3)+ p/(GammaL_3-1)\n",
        "    elif pL_2<= p <pL_1:\n",
        "        return (1.0+alphaL_2)*pow(p/KL_2, 1.0/GammaL_2)+ p/(GammaL_2-1)\n",
        "    elif pL_1<= p <p0:\n",
        "        return (1.0+alphaL_1)*pow(p/KL_1, 1.0/GammaL_1)+ p/(GammaL_1-1)\n",
        "    elif p0<= p <p1:\n",
        "        return (1.0+alpha1)*pow(p/K1, 1.0/Gamma1)+ p/(Gamma1-1)\n",
        "    elif p1<= p <p2:\n",
        "        return (1.0+alpha2)*pow(p/K2, 1.0/Gamma2)+ p/(Gamma2-1)\n",
        "    else:\n",
        "        return (1.0+alpha3)*pow(p/K3, 1.0/Gamma3)+ p/(Gamma3-1)"
      ],
      "outputs": [],
      "execution_count": 3,
      "metadata": {}
    },
    {
      "cell_type": "markdown",
      "source": [
        "## Choose the central density and find the central pressure"
      ],
      "metadata": {}
    },
    {
      "cell_type": "code",
      "source": [
        "rho_c = 1.128e+15/Density\n",
        "eps_c = eps_of_rho(rho_c, args2)\n",
        "P_c = P_of_rho(rho_c, args)"
      ],
      "outputs": [],
      "execution_count": 4,
      "metadata": {}
    },
    {
      "cell_type": "markdown",
      "source": [
        "## Define $A(\\varphi)$ and set $\\beta$"
      ],
      "metadata": {}
    },
    {
      "cell_type": "code",
      "source": [
        "def A_of_phi(phi,beta):   \n",
        "        return np.exp(0.5*beta*phi**2)\n",
        "\n",
        "def alpha_of_phi(phi,beta):   \n",
        "        return beta*phi\n",
        "\n",
        "beta = -4.5\n",
        "\nargs3 = args2 + (beta,)"
      ],
      "outputs": [],
      "execution_count": 5,
      "metadata": {}
    },
    {
      "cell_type": "markdown",
      "source": [
        "## Define the system of ODEs to be solved"
      ],
      "metadata": {}
    },
    {
      "cell_type": "markdown",
      "source": [
        "Define the system $ f(r, {\\mathbf y} (r))$ of differential equations to be solved. \n",
        "\n",
        "a) In the interior of the star:\n",
        "$$ f(r, {\\mathbf y} (r)) = \\frac{d}{dr} \\begin{bmatrix} y_0(r)\\\\ y_1(r) \\\\ y_2(r) \\\\ y_3(r) \\\\ y_4(r) \\end{bmatrix}\n",
        "  = \\frac{d}{dr} \\begin{bmatrix} P(r)\\\\ m(r) \\\\ \\nu(r) \\\\ \\varphi(r) \\\\ \\psi(r) \\end{bmatrix} = \n",
        "  \\begin{bmatrix} -(\\epsilon+P)\\left[\\frac{(m+4\\pi A^4({\\varphi}) r^3P)}{r(r-          \n",
        "                  2m)}+\\frac{1}{2}r\\psi^2 + \\alpha(\\varphi)\\psi \\right] \\\\  \n",
        "                  4\\pi A^4({\\varphi}) r^2 \\epsilon +\\frac{1}{2}r(r-2m)\\psi^2 \\\\\n",
        "                  \\frac{2(m+4\\pi A^4({\\varphi}) r^3P)}{r(r-2m)}+r\\psi^2\\\\\n",
        "                  \\psi(r) \\\\\n",
        "                  4\\pi A^4(\\varphi) \\frac{r}{r-2m}\\left[ \\alpha(\\varphi)\n",
        "                  (\\epsilon-3p) + r(\\epsilon-p)\\psi \\right] \n",
        "                  - \\frac{2(r-m)}{r(r-2m)}\\psi\n",
        "                  \\end{bmatrix}$$\n",
        "                  \n",
        "b) In the exterior of the star:\n",
        "$$ f_{\\rm ext}(r, {\\mathbf y} (r)) = \\frac{d}{dr} \\begin{bmatrix} y_0(r)\\\\ y_1(r) \\\\ y_2(r) \\\\ y_3(r) \\\\ y_4(r) \\end{bmatrix}\n",
        "  = \\frac{d}{dr} \\begin{bmatrix} P(r)\\\\ m(r) \\\\ \\nu(r) \\\\ \\varphi(r) \\\\ \\psi(r) \\end{bmatrix} = \n",
        "  \\begin{bmatrix} 0 \\\\  \n",
        "                  \\frac{1}{2}r(r-2m)\\psi^2 \\\\\n",
        "                  \\frac{2m}{r(r-2m)}+r\\psi^2 \\\\\n",
        "                  \\psi(r) \\\\\n",
        "                  - \\frac{2(r-m)}{r(r-2m)}\\psi\n",
        "                  \\end{bmatrix}$$\n",
        "                  \n",
        " \n"
      ],
      "metadata": {}
    },
    {
      "cell_type": "code",
      "source": [
        "def f(r, y, args2, beta):\n",
        "    \n",
        "    rhoL_3,rhoL_2,rhoL_1,rho0,rho1,rho2,KL_4,KL_3,KL_2,KL_1,K1,K2,K3,\\\n",
        "    GammaL_4,GammaL_3,GammaL_2,GammaL_1,Gamma1,Gamma2,Gamma3,\\\n",
        "    pL_3,pL_2, pL_1, p0, p1, p2,\\\n",
        "    alphaL_4, alphaL_3, alphaL_2, alphaL_1, alpha1, alpha2, alpha3 = args2\n",
        "    \n",
        "    eps = eps_of_P(y[0], args2) \n",
        "    \n",
        "    A = A_of_phi(y[3],beta)\n",
        "    \n",
        "    alpha = alpha_of_phi(y[3],beta)\n",
        "    \n",
        "    return [ -( eps + y[0] )*( (y[1] + 4.0*np.pi*A**4*pow(r,3.0)*y[0] )/\n",
        "                               ( r*(r-2.0*y[1]) ) + 0.5*r*y[4]**2 + alpha*y[4] ), \n",
        "            \n",
        "             4*np.pi*A**4*pow(r,2.0)*eps + 0.5*r*(r-2*y[1])*y[4]**2,\n",
        "            \n",
        "             2.0*( y[1] + 4.0*np.pi*A**4*pow(r,3.0)*y[0] )/( r*(r-2.0*y[1])) +r*y[4]**2,\n",
        "            \n",
        "             y[4],\n",
        "            \n",
        "             4*np.pi*A**4*r/(r-2.0*y[1])*( alpha*(eps-3.0*y[0]) + r*(eps-y[0])*y[4] )\n",
        "             - 2*(r-y[1])*y[4]/(r*(r-2.0*y[1]))\n",
        "           ]"
      ],
      "outputs": [],
      "execution_count": 6,
      "metadata": {}
    },
    {
      "cell_type": "code",
      "source": [
        "def fext(r, y, beta):\n",
        "    \n",
        "    A = A_of_phi(y[3],beta)\n",
        "    \n",
        "    alpha = alpha_of_phi(y[3],beta)\n",
        "    \n",
        "    return [ 0, \n",
        "            \n",
        "             0.5*r*(r-2*y[1])*y[4]**2,\n",
        "            \n",
        "             2.0*y[1]/( r*(r-2.0*y[1])) +r*y[4]**2,\n",
        "            \n",
        "             y[4],\n",
        "            \n",
        "             - 2*(r-y[1])*y[4]/(r*(r-2.0*y[1]))\n",
        "             \n",
        "           ]"
      ],
      "outputs": [],
      "execution_count": 7,
      "metadata": {}
    },
    {
      "cell_type": "markdown",
      "source": [
        "## Create equidistant grid"
      ],
      "metadata": {}
    },
    {
      "cell_type": "code",
      "source": [
        "N = 32001        # number of grid points\n",
        "\n",
        "r_max = 128*4.0 * pow( 3.0/(4.0*np.pi*eps_c), 1.0/3.0)     # 4x radius of 1 Msun uniform density Newt. model\n",
        "\n",
        "r = np.linspace(0.0, r_max, N)\n",
        "dr = r[1] - r[0]"
      ],
      "outputs": [],
      "execution_count": 8,
      "metadata": {}
    },
    {
      "cell_type": "markdown",
      "source": [
        "## Define the main function for the trial solution"
      ],
      "metadata": {}
    },
    {
      "cell_type": "code",
      "source": [
        "def trial_solution(params):\n",
        "    \n",
        "    nu_c, phi_c = params\n",
        "    \n",
        "    # approximate values at r=dr \n",
        "    P_1 =  P_c \n",
        "    m_1 =  0\n",
        "    nu_1 = nu_c\n",
        "    phi_1 = phi_c\n",
        "    psi_1 = 0\n",
        "\n",
        "    y0 = [P_1, m_1, nu_1, phi_1, psi_1]\n",
        "\n",
        "    solve = integrate.ode(f)\n",
        "    solve.set_integrator('lsoda', rtol=1e-12, atol=1e-50, ixpr=True);\n",
        "    solve.set_initial_value(y0, dr);\n",
        "    solve.set_f_params(args2, beta);\n",
        "    \n",
        "    y = np.zeros((len(r), len(y0)))       # create the solution vector\n",
        "    y[0,:] = [P_c, 0.0, nu_c, phi_c, 0]\n",
        "\n",
        "    idx = 1\n",
        "    \n",
        "    # interior\n",
        "    \n",
        "    while solve.successful() and solve.t < r[-1] and solve.y[0]>0.0:\n",
        "    \n",
        "          y[idx, :] = solve.y\n",
        "          solve.integrate(solve.t + dr)\n",
        "          idx += 1\n",
        "\n",
        "    idxlast = idx-1 \n",
        "\n",
        "    R_last = r[idxlast]\n",
        "    Mass_last = y[idxlast][1]\n",
        "\n",
        "    # exterior\n",
        "    \n",
        "    y0ext = y[idxlast]\n",
        "\n",
        "    solve = integrate.ode(fext)\n",
        "    solve.set_integrator('lsoda', rtol=1e-12, atol=1e-50,ixpr=True);\n",
        "    solve.set_initial_value(y0ext, r[idxlast]);\n",
        "    solve.set_f_params(beta);\n",
        "\n",
        "    idx = idxlast\n",
        "\n",
        "    while solve.successful() and solve.t < r[-1]:\n",
        "    \n",
        "          y[idx, :] = solve.y\n",
        "          solve.integrate(solve.t + dr)\n",
        "          idx += 1\n",
        "    \n",
        "    print(\"%4.3e %4.3e %4.3e %4.3e %4.3e\" % (nu_c, phi_c, y[N-2,2], y[N-2,3], np.sqrt(y[N-2,2]**2 + y[N-2,3]**2)))\n",
        "    \n",
        "    return (np.sqrt(y[N-2,2]**2 + y[N-2,3]**2))"
      ],
      "outputs": [],
      "execution_count": 9,
      "metadata": {}
    },
    {
      "cell_type": "markdown",
      "source": [
        "## Optimize for parameters that minimize $\\nu_c$, $\\phi_c$ at infinity (at the outer edge of the grid) "
      ],
      "metadata": {}
    },
    {
      "cell_type": "code",
      "source": [
        "initial_params = (-1.0, -0.106)\n",
        "#initial_params = (-1.0, -0.056)\n",
        "\n",
        "optimal_params = optimize.minimize(trial_solution,initial_params,method='nelder-mead')\n",
        "#optimal_params = optimize.minimize(trial_solution,initial_params,method='COBYLA')"
      ],
      "outputs": [
        {
          "output_type": "stream",
          "name": "stdout",
          "text": [
            "-1.000e+00 -1.060e-01 2.364e-01 -9.305e-05 2.364e-01\n",
            "-1.050e+00 -1.060e-01 1.864e-01 -9.305e-05 1.864e-01\n",
            "-1.000e+00 -1.113e-01 2.314e-01 -4.011e-04 2.314e-01\n",
            "-1.050e+00 -1.113e-01 1.814e-01 -4.011e-04 1.814e-01\n",
            "-1.075e+00 -1.139e-01 1.538e-01 -5.717e-04 1.539e-01\n",
            "-1.125e+00 -1.086e-01 1.089e-01 -2.416e-04 1.089e-01\n",
            "-1.188e+00 -1.073e-01 4.768e-02 -1.660e-04 4.768e-02\n",
            "-1.212e+00 -1.153e-01 1.504e-02 -6.613e-04 1.506e-02\n",
            "-1.294e+00 -1.199e-01 -7.089e-02 -9.980e-04 7.090e-02\n",
            "-1.325e+00 -1.086e-01 -9.106e-02 -2.416e-04 9.106e-02\n",
            "-1.262e+00 -1.100e-01 -2.981e-02 -3.200e-04 2.981e-02\n",
            "-1.287e+00 -1.179e-01 -6.261e-02 -8.493e-04 6.262e-02\n",
            "-1.212e+00 -1.100e-01 2.019e-02 -3.200e-04 2.019e-02\n",
            "-1.163e+00 -1.153e-01 6.504e-02 -6.613e-04 6.505e-02\n",
            "-1.237e+00 -1.113e-01 -6.077e-03 -4.011e-04 6.090e-03\n",
            "-1.237e+00 -1.166e-01 -1.128e-02 -7.538e-04 1.130e-02\n",
            "-1.262e+00 -1.126e-01 -3.236e-02 -4.850e-04 3.236e-02\n",
            "-1.225e+00 -1.146e-01 3.197e-03 -6.162e-04 3.256e-03\n",
            "-1.225e+00 -1.093e-01 8.318e-03 -2.804e-04 8.323e-03\n",
            "-1.228e+00 -1.111e-01 3.457e-03 -3.908e-04 3.479e-03\n",
            "-1.216e+00 -1.144e-01 1.274e-02 -6.050e-04 1.275e-02\n",
            "-1.232e+00 -1.121e-01 -1.367e-03 -4.506e-04 1.439e-03\n",
            "-1.229e+00 -1.156e-01 -1.652e-03 -6.813e-04 1.787e-03\n",
            "-1.236e+00 -1.130e-01 -6.197e-03 -5.118e-04 6.218e-03\n",
            "-1.228e+00 -1.142e-01 8.504e-04 -5.897e-04 1.035e-03\n",
            "-1.231e+00 -1.107e-01 1.100e-03 -3.665e-04 1.159e-03\n",
            "-1.227e+00 -1.129e-01 3.339e-03 -5.010e-04 3.376e-03\n",
            "-1.231e+00 -1.123e-01 -1.897e-04 -4.631e-04 5.004e-04\n",
            "-1.228e+00 -1.158e-01 -4.805e-04 -6.950e-04 8.449e-04\n",
            "-1.230e+00 -1.138e-01 -1.498e-03 -5.635e-04 1.600e-03\n",
            "-1.228e+00 -1.141e-01 2.635e-04 -5.831e-04 6.399e-04\n",
            "-1.232e+00 -1.106e-01 5.104e-04 -3.605e-04 6.249e-04\n",
            "-1.234e+00 -1.088e-01 7.966e-06 -2.506e-04 2.508e-04\n",
            "-1.236e+00 -1.061e-01 -2.020e-04 -1.010e-04 2.259e-04\n",
            "-1.236e+00 -1.078e-01 -8.448e-04 -1.921e-04 8.664e-04\n",
            "-1.233e+00 -1.099e-01 1.776e-04 -3.172e-04 3.635e-04\n",
            "-1.238e+00 -1.038e-01 5.254e-05 2.253e-05 5.716e-05\n",
            "-1.242e+00 -9.955e-02 -3.907e-05 2.247e-04 2.280e-04\n",
            "-1.242e+00 -1.000e-01 -5.098e-04 2.039e-04 5.490e-04\n",
            "-1.235e+00 -1.074e-01 7.816e-05 -1.730e-04 1.898e-04\n",
            "-1.237e+00 -1.051e-01 3.568e-04 -4.479e-05 3.596e-04\n",
            "-1.237e+00 -1.059e-01 -6.149e-05 -8.682e-05 1.064e-04\n",
            "-1.240e+00 -1.022e-01 -1.322e-04 1.001e-04 1.658e-04\n",
            "-1.239e+00 -1.035e-01 -5.945e-05 3.566e-05 6.933e-05\n",
            "-1.241e+00 -1.014e-01 1.570e-05 1.377e-04 1.386e-04\n",
            "-1.238e+00 -1.048e-01 -2.758e-05 -2.793e-05 3.926e-05\n",
            "-1.237e+00 -1.050e-01 8.186e-05 -4.154e-05 9.180e-05\n",
            "-1.238e+00 -1.039e-01 -2.246e-05 1.667e-05 2.797e-05\n",
            "-1.238e+00 -1.049e-01 -1.035e-04 -3.396e-05 1.089e-04\n",
            "-1.238e+00 -1.041e-01 1.442e-05 8.575e-06 1.678e-05\n",
            "-1.239e+00 -1.032e-01 1.472e-05 5.227e-05 5.430e-05\n",
            "-1.238e+00 -1.044e-01 -1.518e-05 -7.537e-06 1.695e-05\n",
            "-1.238e+00 -1.045e-01 2.111e-05 -1.574e-05 2.634e-05\n",
            "-1.238e+00 -1.044e-01 1.051e-05 -7.585e-06 1.296e-05\n",
            "-1.238e+00 -1.041e-01 4.012e-05 8.527e-06 4.101e-05\n",
            "-1.238e+00 -1.043e-01 -1.281e-06 -3.507e-06 3.734e-06\n",
            "-1.238e+00 -1.046e-01 -5.776e-06 -1.978e-05 2.060e-05\n",
            "-1.238e+00 -1.042e-01 9.598e-06 1.529e-06 9.719e-06\n"
          ]
        }
      ],
      "execution_count": 10,
      "metadata": {}
    },
    {
      "cell_type": "code",
      "source": [
        "display(optimal_params.x)"
      ],
      "outputs": [
        {
          "output_type": "display_data",
          "data": {
            "text/plain": [
              "array([-1.23795968, -0.10430266])"
            ]
          },
          "metadata": {}
        }
      ],
      "execution_count": 11,
      "metadata": {}
    },
    {
      "cell_type": "markdown",
      "source": [
        "## Final numerical solution:"
      ],
      "metadata": {}
    },
    {
      "cell_type": "code",
      "source": [
        "nu_c = optimal_params.x[0]\n",
        "phi_c = optimal_params.x[1]\n",
        "\n",
        "P_1 =  P_c \n",
        "m_1 =  0\n",
        "nu_1 = nu_c\n",
        "phi_1 = phi_c\n",
        "psi_1 = 0\n",
        "y0 = [P_1, m_1, nu_1, phi_1, psi_1]\n",
        "\n",
        "solve = integrate.ode(f)\n",
        "solve.set_integrator('lsoda', rtol=1e-12, atol=1e-50,ixpr=True);\n",
        "solve.set_initial_value(y0, dr);\n",
        "solve.set_f_params(args2,beta);\n",
        "\n",
        "y = np.zeros((len(r), len(y0)))\n",
        "y[0,:] = [P_c, 0.0, nu_c, phi_c, 0]\n",
        "\n",
        "idx = 1\n",
        "\n",
        "# interior \n",
        "\n",
        "while solve.successful() and solve.t < r[-1] and solve.y[0]>0.0:\n",
        "    \n",
        "      y[idx, :] = solve.y\n",
        "      solve.integrate(solve.t + dr)\n",
        "      idx += 1\n",
        "        \n",
        "idxlast = idx-1 \n",
        "\n",
        "R_last = r[idxlast]\n",
        "Mass_last = y[idxlast][1]\n",
        "\n",
        "# exterior\n",
        "\n",
        "y0ext = y[idxlast]\n",
        "\n",
        "solve = integrate.ode(fext)\n",
        "solve.set_integrator('lsoda', rtol=1e-12, atol=1e-50,ixpr=True);\n",
        "solve.set_initial_value(y0ext, r[idxlast]);\n",
        "solve.set_f_params(beta);\n",
        "\n",
        "idx = idxlast\n",
        "\n",
        "while solve.successful() and solve.t < r[-1]:\n",
        "    \n",
        "      y[idx, :] = solve.y\n",
        "      solve.integrate(solve.t + dr)\n",
        "      idx += 1\n",
        "\n"
      ],
      "outputs": [],
      "execution_count": 12,
      "metadata": {}
    },
    {
      "cell_type": "code",
      "source": [
        "\n",
        "# locate radius more accurately\n",
        "\n",
        "r_data = np.zeros(4)\n",
        "h_data = np.zeros(4)\n",
        "eps_data = np.zeros(4)\n",
        "rho_data = np.zeros(4)\n",
        "P_data = np.zeros(4)\n",
        "dmdr_data = np.zeros(4)\n",
        "\n",
        "for i in range(idxlast-3,idxlast+1):\n",
        "    r_data[i-idxlast+3] = r[i]\n",
        "    eps_data[i-idxlast+3] = eps_of_P(y[i][0],args2)\n",
        "    rho_data[i-idxlast+3] = rho_of_P(y[i][0],args)\n",
        "    P_data[i-idxlast+3] = y[i][0]\n",
        "    h_data[i-idxlast+3] = (eps_data[i-idxlast+3] + P_data[i-idxlast+3]) \\\n",
        "                           / rho_data[i-idxlast+3] -1.0\n",
        "    dmdr_data[i-idxlast+3] = 4.0*np.pi*r[i]**2*eps_data[i-idxlast+3]\n",
        "\n",
        "h_interp = PchipInterpolator(r_data, h_data)\n",
        "\n",
        "Radius = optimize.brentq( h_interp, r_data[0], r_data[3]+3*dr, xtol=1e-16 )\n",
        "\n",
        "print(Radius)\n",
        "\n",
        "# Construct table with main solution variables:\n",
        "\n",
        "values = np.zeros((N, 11)) \n",
        "\n",
        "for i in range(0,N): \n",
        "    values[i][0] = r[i]\n",
        "    values[i][1] = rho_of_P(y[i][0], args) # rho\n",
        "    values[i][2] = eps_of_P(y[i][0], args2) # epsilon\n",
        "    values[i][3] = y[i][0]   # P\n",
        "    values[i][4] = y[i][1]   # m\n",
        "    values[i][5] = y[i][2]   # nu (arbitrary)\n",
        "\n",
        "values[0][6] = 0.0\n",
        "for i in range(1,N):     \n",
        "    values[i][6] = - np.log(1.0-2.0*y[i][1]/r[i])   # lambda\n",
        "    \n",
        "values[:, 7] = (values[:, 2] + values[:, 3])/values[:, 1]  # h\n",
        "\n",
        "for i in range(0,N):\n",
        "    values[i][8] = y[i][3]   # \\phi\n",
        "    values[i][9] = y[i][4]   # \\psi                \n",
        "\n",
        "for i in range(0,N):\n",
        "    rho = values[i][1] \n",
        "    if rho<rhoL_3:\n",
        "        values[i][10] = GammaL_4\n",
        "    elif rhoL_3<= rho <rhoL_2:\n",
        "        values[i][10] = GammaL_3\n",
        "    elif rhoL_2<= rho <rhoL_1:\n",
        "        values[i][10] = GammaL_2\n",
        "    elif rhoL_1<= rho <rho0:\n",
        "        values[i][10] = GammaL_1\n",
        "    elif rho0<= rho <rho1:\n",
        "        values[i][10] = Gamma1\n",
        "    elif rho1<= rho <rho2:\n",
        "        values[i][10] = Gamma2\n",
        "    else:\n",
        "        values[i][10] = Gamma3"
      ],
      "outputs": [
        {
          "output_type": "stream",
          "name": "stdout",
          "text": [
            "7.844067100180619\n"
          ]
        }
      ],
      "execution_count": 13,
      "metadata": {}
    },
    {
      "cell_type": "markdown",
      "source": [
        "Compute gravitational mass and scalar charge from asymptotic behaviour"
      ],
      "metadata": {}
    },
    {
      "cell_type": "code",
      "source": [
        "dnudr = np.gradient(values[:,5],dr,edge_order=2)\n",
        "M_asymp_GR = dnudr[N-3]*r[N-3]**2*np.exp(values[N-3,5])/2\n",
        "\n",
        "dphidr = np.gradient(values[:,8],dr,edge_order=2)\n",
        "\n",
        "scalar_charge_asymp_GR = -dphidr[N-3]*r[N-3]**2\n",
        "\n",
        "phi_center = values[0,8]\n",
        "phi_surface = values[idxlast,8]\n",
        "\n",
        "print(M_asymp_GR)\n",
        "print(scalar_charge_asymp_GR*(Length/1e5))\n",
        "print(phi_center)\n",
        "print(phi_surface)\n"
      ],
      "outputs": [
        {
          "output_type": "stream",
          "name": "stdout",
          "text": [
            "1.7191285231311682\n",
            "-0.48934141640756806\n",
            "-0.10430266238669865\n",
            "-0.05554950076423247\n"
          ]
        }
      ],
      "execution_count": 14,
      "metadata": {}
    },
    {
      "cell_type": "markdown",
      "source": [
        "# Main results"
      ],
      "metadata": {}
    },
    {
      "cell_type": "code",
      "source": [
        "# c=G=Msun=1\n",
        "\n",
        "N_gridpoints = N\n",
        "\n",
        "print('Number of grid points =', N_gridpoints)\n",
        "print('rho_c =', rho_c)\n",
        "print('epsilon_c =', eps_c)\n",
        "print('P_c =', P_c)\n",
        "print('phi_c =', phi_center)\n",
        "print('phi_surface =', phi_surface)\n",
        "print('scalar charge =', scalar_charge_asymp_GR)\n",
        "print('Radius =', '%.16f'% Radius)\n",
        "print('Gravitational Mass =', '%.16f'% M_asymp_GR)"
      ],
      "outputs": [
        {
          "output_type": "stream",
          "name": "stdout",
          "text": [
            "Number of grid points = 32001\n",
            "rho_c = 0.0018274690790913042\n",
            "epsilon_c = 0.0021075703683837454\n",
            "P_c = 0.00048466303390058344\n",
            "phi_c = -0.10430266238669865\n",
            "phi_surface = -0.05554950076423247\n",
            "scalar charge = -0.33129895633107437\n",
            "Radius = 7.8440671001806193\n",
            "Gravitational Mass = 1.7191285231311682\n"
          ]
        }
      ],
      "execution_count": 15,
      "metadata": {
        "scrolled": true
      }
    },
    {
      "cell_type": "code",
      "source": [
        "# CGS\n",
        "\n",
        "c=2.9979e10\n",
        "G=6.67408e-8\n",
        "Msun=1.989e33\n",
        "Length = G*Msun/c**2\n",
        "Time = Length/c\n",
        "Density = Msun/Length**3\n",
        "dr_CGS = dr*Length\n",
        "print('rho_c =', rho_c*Density)\n",
        "print('epsilon_c/c^2 =', eps_c*Density)\n",
        "print('P_c =', P_c*Density*c**2)\n",
        "print('scalar charge =', scalar_charge_asymp_GR*Length)\n",
        "print('Radius =', Radius*Length)\n",
        "print('Gravitational Mass =', M_asymp_GR*Msun)"
      ],
      "outputs": [
        {
          "output_type": "stream",
          "name": "stdout",
          "text": [
            "rho_c = 1128000000000000.0\n",
            "epsilon_c/c^2 = 1300891710145366.5\n",
            "P_c = 2.688643637560329e+35\n",
            "scalar charge = -48934.14164075681\n",
            "Radius = 1158599.1539806013\n",
            "Gravitational Mass = 3.4193466325078935e+33\n"
          ]
        }
      ],
      "execution_count": 16,
      "metadata": {}
    },
    {
      "cell_type": "markdown",
      "source": [
        "# Write output files"
      ],
      "metadata": {}
    },
    {
      "cell_type": "code",
      "source": [
        "values_CGS = np.zeros((N, 10)) \n",
        "\n",
        "values_CGS[:, 0] = values[:, 0] * Length\n",
        "values_CGS[:, 1] = values[:, 1] * Density  # rho\n",
        "values_CGS[:, 2] = values[:, 2] * Density*c**2  # epsilon\n",
        "values_CGS[:, 3] = values[:, 3] * Density*c**2  # P\n",
        "values_CGS[:, 4] = values[:, 4] * Msun  # m\n",
        "values_CGS[:, 5] = values[:, 5]         # nu\n",
        "values_CGS[:, 6] = values[:, 6]         # lambda\n",
        "values_CGS[:, 7] = values[:, 7] * c**2  # h\n",
        "values_CGS[:, 8] = values[:, 8] / Length   # (epsilon+P)^{-1} dP/dr\n",
        "values_CGS[:, 9] = values[:, 9]         # Gamma\n",
        "\n",
        "np.savetxt('TOV_output.dat', values)\n",
        "np.savetxt('TOV_output_CGS.dat', values_CGS)"
      ],
      "outputs": [],
      "execution_count": 17,
      "metadata": {}
    },
    {
      "cell_type": "markdown",
      "source": [
        "# Figures"
      ],
      "metadata": {}
    },
    {
      "cell_type": "code",
      "source": [
        "fig = plt.figure(figsize=(10, 6))\n",
        "ax1 = plt.subplot2grid((3, 5), (0, 0), colspan=2)\n",
        "ax2 = plt.subplot2grid((3, 5), (1, 0), colspan=2)\n",
        "ax3 = plt.subplot2grid((3, 5), (2, 0), colspan=2)\n",
        "ax4 = plt.subplot2grid((3, 5), (0, 3), colspan=2)\n",
        "ax5 = plt.subplot2grid((3, 5), (1, 3), colspan=2)\n",
        "ax6 = plt.subplot2grid((3, 5), (2, 3), colspan=2)\n",
        "\n",
        "ax1.plot(np.log10(values[:, 0]*Length/1e5), values_CGS[:, 3])\n",
        "ax1.set_ylabel(r'$P \\ [dyn/cm^2]$', fontsize=14)\n",
        "ax1.set_xlim((0,np.log10(r[N-1]*Length/1e5)))\n",
        "\n",
        "ax2.plot(np.log10(values[:, 0]*Length/1e5), values_CGS[:, 2]/c**2, 'r')\n",
        "ax2.set_ylabel(r'$\\epsilon/c^2 \\ [g/cm^3]$', fontsize=14)\n",
        "ax2.set_xlim((0, np.log10(r[N-1]*Length/1e5)));\n",
        "\n",
        "ax3.plot(np.log10(values[:, 0]*Length/1e5), values[:, 8], 'm')\n",
        "ax3.set_xlabel(r'$log \\ r \\ [km]$', fontsize=14)\n",
        "ax3.set_ylabel(r'$\\phi$', fontsize=14)\n",
        "ax3.set_xlim((0, np.log10(r[N-1]*Length/1e5)));\n",
        "\n",
        "ax4.plot(np.log10(values[:, 0]*Length/1e5), values[:, 5], 'b')\n",
        "ax4.set_ylabel(r'$\\nu$', fontsize=14)\n",
        "ax4.set_xlim((0, np.log10(r[N-1]*Length/1e5)))\n",
        "\n",
        "ax5.plot(np.log10(values[:, 0]*Length/1e5), values[:, 6], 'g')\n",
        "ax5.set_ylabel(r'$\\lambda$', fontsize=14)\n",
        "ax5.set_xlim((0, np.log10(r[N-1]*Length/1e5)));\n",
        "\n",
        "ax6.plot(np.log10(values[:, 0]*Length/1e5),values[:,9], 'c')\n",
        "ax6.set_ylabel(r'$\\psi$', fontsize=14)\n",
        "ax6.set_xlim((0, np.log10(r[N-1]*Length/1e5)));\n",
        "ax6.set_xlabel(r'$log \\ r \\ [km]$', fontsize=14)\n",
        "\n",
        "#fig.tight_layout()\n",
        "\n",
        "fig.subplots_adjust(left=None, bottom=1, right=None, top=2.2, wspace=None, hspace=None)\n",
        "plt.show()"
      ],
      "outputs": [
        {
          "output_type": "display_data",
          "data": {
            "text/plain": [
              "<Figure size 720x432 with 6 Axes>"
            ],
            "image/png": "[encoded data removed]"
          },
          "metadata": {
            "needs_background": "light"
          }
        }
      ],
      "execution_count": 18,
      "metadata": {}
    },
    {
      "cell_type": "code",
      "source": [
        "fig = plt.figure(figsize=(10, 6))\n",
        "ax1 = plt.subplot2grid((2, 2), (0, 0), colspan=1)\n",
        "ax2 = plt.subplot2grid((2, 2), (0, 1), colspan=1)\n",
        "\n\n",
        "ax1.plot(np.log10(values[:, 0]*Length/1e5), dnudr*r**2*np.exp(values[:,5])/2)\n",
        "ax1.set_ylabel(r'$M \\ [M_\\odot]$', fontsize=14)\n",
        "ax1.set_xlim((np.log10(r[idxlast]*Length/1e5),np.log10(r[N-4]*Length/1e5)))\n",
        "ax1.set_ylim(((0.99*dnudr[N-4]*r[N-4]**2*np.exp(values[N-4,5])/2),1.002*dnudr[N-4]*r[N-4]**2*np.exp(values[N-4,5])/2))\n",
        "ax1.set_xlabel(r'$log \\ r \\ [km]$', fontsize=14)\n",
        "\n",
        "ax2.plot(np.log10(values[:, 0]*Length/1e5), -dphidr*r**2*Length/1e5, 'r')\n",
        "ax2.set_ylabel(r'$\\omega_A \\ [km]$', fontsize=14)\n",
        "ax2.set_xlim((np.log10(r[idxlast]*Length/1e5), np.log10(r[N-4]*Length/1e5)))\n",
        "ax2.set_ylim((-1.1*dphidr[N-4]*r[N-4]**2*Length/1e5,-0.99*dphidr[N-4]*r[N-4]**2*Length/1e5))\n",
        "ax2.set_xlabel(r'$log \\ r \\ [km]$', fontsize=14)\n",
        "\n\n",
        "fig.tight_layout()\n",
        "\nplt.show()"
      ],
      "outputs": [
        {
          "output_type": "display_data",
          "data": {
            "text/plain": [
              "<Figure size 720x432 with 2 Axes>"
            ],
            "image/png": "[encoded data removed]"
          },
          "metadata": {
            "needs_background": "light"
          }
        }
      ],
      "execution_count": 19,
      "metadata": {}
    },
    {
      "cell_type": "code",
      "source": [],
      "outputs": [],
      "execution_count": 20,
      "metadata": {}
    }
  ],
  "metadata": {
    "kernelspec": {
      "name": "python3",
      "language": "python",
      "display_name": "Python 3"
    },
    "language_info": {
      "name": "python",
      "version": "3.7.5",
      "mimetype": "text/x-python",
      "codemirror_mode": {
        "name": "ipython",
        "version": 3
      },
      "pygments_lexer": "ipython3",
      "nbconvert_exporter": "python",
      "file_extension": ".py"
    },
    "latex_envs": {
      "report_style_numbering": false,
      "hotkeys": {
        "equation": "Ctrl-E",
        "itemize": "Ctrl-I"
      },
      "LaTeX_envs_menu_present": true,
      "autocomplete": true,
      "autoclose": false,
      "eqNumInitial": 1,
      "bibliofile": "biblio.bib",
      "latex_user_defs": false,
      "current_citInitial": 1,
      "eqLabelWithNumbers": true,
      "labels_anchors": false,
      "cite_by": "apalike",
      "user_envs_cfg": false
    },
    "toc": {
      "toc_position": {
        "height": "calc(100% - 180px)",
        "left": "10px",
        "top": "150px",
        "width": "165px"
      },
      "skip_h1_title": false,
      "number_sections": true,
      "title_cell": "Table of Contents",
      "toc_window_display": false,
      "base_numbering": 1,
      "toc_section_display": true,
      "title_sidebar": "Contents",
      "toc_cell": false,
      "nav_menu": {},
      "sideBar": true
    },
    "varInspector": {
      "cols": {
        "lenName": 16,
        "lenType": 16,
        "lenVar": 40
      },
      "kernels_config": {
        "python": {
          "delete_cmd_postfix": "",
          "delete_cmd_prefix": "del ",
          "library": "var_list.py",
          "varRefreshCmd": "print(var_dic_list())"
        },
        "r": {
          "delete_cmd_postfix": ") ",
          "delete_cmd_prefix": "rm(",
          "library": "var_list.r",
          "varRefreshCmd": "cat(var_dic_list()) "
        }
      },
      "types_to_exclude": [
        "module",
        "function",
        "builtin_function_or_method",
        "instance",
        "_Feature"
      ],
      "window_display": false
    },
    "kernel_info": {
      "name": "python3"
    },
    "nteract": {
      "version": "0.12.3"
    }
  },
  "nbformat": 4,
  "nbformat_minor": 1
}